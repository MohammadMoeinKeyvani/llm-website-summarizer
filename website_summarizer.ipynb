{
 "cells": [
  {
   "cell_type": "markdown",
   "id": "e8eba714-2eca-4154-9c54-ed8f2359b933",
   "metadata": {},
   "source": [
    "## Importing libraries"
   ]
  },
  {
   "cell_type": "code",
   "execution_count": 7,
   "id": "7f7e6cd9-9e83-4eea-828f-c9358f0dc4ff",
   "metadata": {},
   "outputs": [],
   "source": [
    "import os\n",
    "import requests\n",
    "from dotenv import load_dotenv\n",
    "from bs4 import BeautifulSoup\n",
    "from IPython.display import Markdown, display\n",
    "from openai import OpenAI"
   ]
  },
  {
   "cell_type": "markdown",
   "id": "9f847252-5a64-420e-a1bc-422165e170c0",
   "metadata": {},
   "source": [
    "## Summarizer"
   ]
  },
  {
   "cell_type": "code",
   "execution_count": 13,
   "id": "4bfcecf2-258c-4062-b0d4-52cf16d42505",
   "metadata": {},
   "outputs": [],
   "source": [
    "headers = {\n",
    " \"User-Agent\": \"Mozilla/5.0 (Windows NT 10.0; Win64; x64) AppleWebKit/537.36 (KHTML, like Gecko) Chrome/117.0.0.0 Safari/537.36\"\n",
    "}\n",
    "\n",
    "class Website:\n",
    "\n",
    "    def __init__(self, url):\n",
    "        \"\"\"\n",
    "        Create this Website object from the given url using the BeautifulSoup library\n",
    "        \"\"\"\n",
    "        self.url = url\n",
    "        response = requests.get(url, headers=headers)\n",
    "        soup = BeautifulSoup(response.content, 'html.parser')\n",
    "        self.title = soup.title.string if soup.title else \"No title found\"\n",
    "        for irrelevant in soup.body([\"script\", \"style\", \"img\", \"input\"]):\n",
    "            irrelevant.decompose()\n",
    "        self.text = soup.body.get_text(separator=\"\\n\", strip=True)\n",
    "\n",
    "\n",
    "# Setting system prompt\n",
    "system_prompt = \"You are an assistant that analyzes the contents of a website \\\n",
    "and provides a short summary, ignoring text that might be navigation related. \\\n",
    "Respond in markdown.\"\n",
    "\n",
    "# Setting user prompt\n",
    "def user_prompt_for(website):\n",
    "    user_prompt = f\"You are looking at a website titled {website.title}\"\n",
    "    user_prompt += \"\\nThe contents of this website is as follows; \\\n",
    "please provide a short summary of this website in markdown. \\\n",
    "If it includes news or announcements, then summarize these too.\\n\\n\"\n",
    "    user_prompt += website.text\n",
    "    return user_prompt\n",
    "\n",
    "# Putting user and system prompt togehter.\n",
    "def messages_for(website):\n",
    "    return [\n",
    "        {\"role\": \"system\", \"content\": system_prompt},\n",
    "        {\"role\": \"user\", \"content\": user_prompt_for(website)}\n",
    "    ]\n",
    "\n",
    "# This function will give summarization in markdown format.\n",
    "def summarize(url):\n",
    "    website = Website(url)\n",
    "    response = openai.chat.completions.create(\n",
    "        model = \"llama3.2\",\n",
    "        messages = messages_for(website)\n",
    "    )\n",
    "    return response.choices[0].message.content\n",
    "\n",
    "# This function does the job of summmarize function, but it will show the summariztion nicely not in markdown.\n",
    "def display_summary(url):\n",
    "    summary = summarize(url)\n",
    "    display(Markdown(summary))"
   ]
  },
  {
   "cell_type": "markdown",
   "id": "df06d80e-b30a-41be-8c2a-027b45d11c58",
   "metadata": {},
   "source": [
    "## An example of using website summarizer"
   ]
  },
  {
   "cell_type": "code",
   "execution_count": 17,
   "id": "6e294f40-568e-4f4d-8255-e91c6c15831e",
   "metadata": {},
   "outputs": [
    {
     "data": {
      "text/markdown": [
       "**Google News Summary**\n",
       "===============\n",
       "\n",
       "*   **General Information**\n",
       "    *   Google News is the official website of Google's content aggregation service.\n",
       "*   **Search and Features**\n",
       "    *   Advanced search functionality provides users with more control over their searches.\n",
       "    *   Help center guides users on how to use the service effectively.\n",
       "*   **News Topics**\n",
       "    *   Current news articles are showcased, including various sections like U.S., World, Business, Technology, Entertainment, Sports, Science, and Health.\n",
       "    *   A \"Trending\" section highlights popular stories and topics.\n",
       "\n",
       "**Recent News Articles**\n",
       "=====================\n",
       "\n",
       "### Americas\n",
       "-   Trump Flees Washington Controversies for Golf-Happy Trip to Scotland (CNN)\n",
       "-   Security Tightens as Donald Trump Plays Golf at Turnberry\n",
       "-   Taiwan Opposition Set to Defeat Recall Bid in Blow to Lai Agenda \n",
       "\n",
       "### Asia\n",
       "-   Cambodians flee border with Thailand as clashes continue for third day\n",
       "-   Thai-Cambodian fighting extends into third day, Malaysia urges ceasefire\n",
       "-   Cambodia reports first deaths in cross-border conflict with Thailand\n",
       "\n",
       "### Russia and Global Politics\n",
       "-   Gabbard and White House 'lying' about intel on Russian interference in 2016, ex-CIA official says"
      ],
      "text/plain": [
       "<IPython.core.display.Markdown object>"
      ]
     },
     "metadata": {},
     "output_type": "display_data"
    }
   ],
   "source": [
    "display_summary(\"https://news.google.com\")"
   ]
  }
 ],
 "metadata": {
  "kernelspec": {
   "display_name": "Python 3 (ipykernel)",
   "language": "python",
   "name": "python3"
  },
  "language_info": {
   "codemirror_mode": {
    "name": "ipython",
    "version": 3
   },
   "file_extension": ".py",
   "mimetype": "text/x-python",
   "name": "python",
   "nbconvert_exporter": "python",
   "pygments_lexer": "ipython3",
   "version": "3.11.12"
  }
 },
 "nbformat": 4,
 "nbformat_minor": 5
}
